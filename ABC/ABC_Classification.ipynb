{
  "nbformat": 4,
  "nbformat_minor": 0,
  "metadata": {
    "colab": {
      "name": "ABC Classification.ipynb",
      "provenance": [],
      "collapsed_sections": [],
      "history_visible": true,
      "mount_file_id": "1YCKAJXTIN87AtocvsTJ0pTKhGgB8r3vO",
      "authorship_tag": "ABX9TyObINGASOTstjW31lumryl7",
      "include_colab_link": true
    },
    "kernelspec": {
      "display_name": "Python 3",
      "name": "python3"
    }
  },
  "cells": [
    {
      "cell_type": "markdown",
      "metadata": {
        "id": "view-in-github",
        "colab_type": "text"
      },
      "source": [
        "<a href=\"https://colab.research.google.com/github/erikrowens/Portfolio/blob/main/ABC/ABC_Classification.ipynb\" target=\"_parent\"><img src=\"https://colab.research.google.com/assets/colab-badge.svg\" alt=\"Open In Colab\"/></a>"
      ]
    },
    {
      "cell_type": "markdown",
      "metadata": {
        "id": "nGYeYJs2a5ht"
      },
      "source": [
        "# ABC Classification\r\n",
        "ABC classification is largely based on the 80/20 or Pareto rule, a metric that proposes 80% of the outcomes are determined by 20% of the inputs.\r\n",
        "\r\n",
        "*Credit*: https://searcherp.techtarget.com/definition/ABC-classification#:~:text=ABC%20classification%20is%20a%20ranking,C%20%2D%20relatively%20unimportant\r\n",
        "\r\n",
        "## Purpose\r\n",
        "Provide ABC classication of sales data for a given period. The script will read in sales data for multiple stores and provide an ABC classification code for two variable at each product at each store (and then the cummulative for all stores.)\r\n",
        "\r\n",
        "## Assumptions\r\n",
        "1.   Source data, CSV file (rawData.csv) and parameters, YAML file (params.yaml) are both stored in the same directory on Google Drive as this notebook.\r\n",
        "2.   Sourcing of data is clean and therefore preprocessing is not performed.\r\n",
        "3.   Four columns of data separated by \";\" (without quotes) are provided in the CSV file. The four columns are as follows: DEPOT (store code), REFERENCE (product code), VELOCITY (number of times a product was sold during the period), VOLUME (quantity of the product sold during the period.)\r\n",
        "4.   The notebook has access to a MySQL database stored on an Amazon EC2 instanct and it will be able to create a table.\r\n",
        "\r\n",
        "\r\n",
        "\r\n"
      ]
    },
    {
      "cell_type": "code",
      "metadata": {
        "colab": {
          "base_uri": "https://localhost:8080/"
        },
        "id": "7-JR7WQ5O70X",
        "outputId": "9f685c52-483c-4dd7-929d-b827c06630f9"
      },
      "source": [
        "#@title Import Libraries\n",
        "#Import 'standard' libraries\n",
        "import numpy as np\n",
        "import pandas as pd\n",
        "import matplotlib.pyplot as plt\n",
        "\n",
        "#To connect to Google Drive - if not permanently mounted via notebook\n",
        "#from google.colab import drive\n",
        "#Required to update the path statement to import a PY file from project folder\n",
        "import sys\n",
        "#Requirements to connect to MySQL with MySQL libraries\n",
        "!pip install mysql.connector\n",
        "import mysql.connector\n",
        "from mysql.connector import (connection)\n",
        "\n",
        "#Need YAML for our params file (otherwise bugs on loader=FullLoad)\n",
        "!pip install -U PyYAML\n",
        "import yaml\n",
        "\n",
        "#Using PyMySQL and SQLAlchemy for inserting dataframe to MySQL\n",
        "#https://www.opentechguides.com/how-to/article/pandas/195/pandas-to-mysql.html\n",
        "from sqlalchemy import create_engine\n",
        "!pip install -U pymysql\n",
        "import pymysql\n",
        "\n",
        "#Set the path to the current project folder\n",
        "#Need to change this later so that it is not hardcoded (client independent)\n",
        "#If monting in code each time\n",
        "#projectFolder = '/gdrive/My Drive/Colab Notebooks/ABC Classification/'\n",
        "#If permanently mounting via the notebook\n",
        "projectFolder = './drive/My Drive/Colab Notebooks/ABC Classification/'"
      ],
      "execution_count": 1,
      "outputs": [
        {
          "output_type": "stream",
          "text": [
            "Collecting mysql.connector\n",
            "\u001b[?25l  Downloading https://files.pythonhosted.org/packages/28/04/e40098f3730e75bbe36a338926f566ea803550a34fb50535499f4fc4787a/mysql-connector-2.2.9.tar.gz (11.9MB)\n",
            "\u001b[K     |████████████████████████████████| 11.9MB 5.7MB/s \n",
            "\u001b[?25hBuilding wheels for collected packages: mysql.connector\n",
            "  Building wheel for mysql.connector (setup.py) ... \u001b[?25l\u001b[?25hdone\n",
            "  Created wheel for mysql.connector: filename=mysql_connector-2.2.9-cp36-cp36m-linux_x86_64.whl size=247950 sha256=e94a5a37201ccb07004226af52e5134e0cb0717e732fc76b1e23db3fec880703\n",
            "  Stored in directory: /root/.cache/pip/wheels/8c/83/a1/f8b6d4bb1bd6208bbde1608bbfa7557504bed9eaf2ecf8c175\n",
            "Successfully built mysql.connector\n",
            "Installing collected packages: mysql.connector\n",
            "Successfully installed mysql.connector\n",
            "Collecting PyYAML\n",
            "\u001b[?25l  Downloading https://files.pythonhosted.org/packages/64/c2/b80047c7ac2478f9501676c988a5411ed5572f35d1beff9cae07d321512c/PyYAML-5.3.1.tar.gz (269kB)\n",
            "\u001b[K     |████████████████████████████████| 276kB 5.0MB/s \n",
            "\u001b[?25hBuilding wheels for collected packages: PyYAML\n",
            "  Building wheel for PyYAML (setup.py) ... \u001b[?25l\u001b[?25hdone\n",
            "  Created wheel for PyYAML: filename=PyYAML-5.3.1-cp36-cp36m-linux_x86_64.whl size=44621 sha256=49dbc90025f2fc36f602dbc3a487e9320ce7767d84051987fe5ff59de82feaea\n",
            "  Stored in directory: /root/.cache/pip/wheels/a7/c1/ea/cf5bd31012e735dc1dfea3131a2d5eae7978b251083d6247bd\n",
            "Successfully built PyYAML\n",
            "Installing collected packages: PyYAML\n",
            "  Found existing installation: PyYAML 3.13\n",
            "    Uninstalling PyYAML-3.13:\n",
            "      Successfully uninstalled PyYAML-3.13\n",
            "Successfully installed PyYAML-5.3.1\n",
            "Collecting pymysql\n",
            "\u001b[?25l  Downloading https://files.pythonhosted.org/packages/1a/ea/dd9c81e2d85efd03cfbf808736dd055bd9ea1a78aea9968888b1055c3263/PyMySQL-0.10.1-py2.py3-none-any.whl (47kB)\n",
            "\u001b[K     |████████████████████████████████| 51kB 3.2MB/s \n",
            "\u001b[?25hInstalling collected packages: pymysql\n",
            "Successfully installed pymysql-0.10.1\n"
          ],
          "name": "stdout"
        }
      ]
    },
    {
      "cell_type": "code",
      "metadata": {
        "id": "PSy-Js4EAZD2"
      },
      "source": [
        "#@title Custom class and method definitions\n",
        "#Credit: https://stackoverflow.com/questions/1305532/convert-nested-python-dict-to-object\n",
        "class DictToObject:\n",
        "    def __init__(self, **entries):\n",
        "        self.__dict__.update(entries)\n",
        "\n",
        "# Create a dataframe that will be set up as a grid\n",
        "# as follows [conservation_status, scientific_name]\n",
        "def gridDFBuilder(multiColumnGroupedDF, rowName, columnName, countCol):\n",
        "\n",
        "  rowListSeries = getattr(grouped_multiple, rowName)\n",
        "  columnListSeries = getattr(grouped_multiple, columnName)\n",
        "  \n",
        "  rowList= list(rowListSeries.unique())\n",
        "  columnList = list(columnListSeries.unique())\n",
        "\n",
        "  gridDF = pd.DataFrame(index=rowList)\n",
        "\n",
        "  #Add columns as scientific_name\n",
        "  for c in columnList:\n",
        "    gridDF[c] = ''\n",
        "\n",
        "\n",
        "  rowSeries = getattr(multiColumnGroupedDF, rowName)\n",
        "  columnSeries = getattr(multiColumnGroupedDF, columnName)\n",
        "  \n",
        "  for r in rowList:\n",
        "    l = []\n",
        "    for c in columnList:\n",
        "      result = multiColumnGroupedDF[(rowSeries == r) & (columnSeries == c)]\n",
        "      if(len(result) > 0):\n",
        "        newResult = getattr(result, countCol)\n",
        "        gridDF.loc[r,c] = newResult.values[0]\n",
        "      else:\n",
        "        gridDF.loc[r,c] = 0\n",
        "\n",
        "  return gridDF\n",
        "\n",
        "\n",
        "\n",
        "def mySQLSimpleSelect(sqlString):\n",
        "  cnx = connection.MySQLConnection(user=dbParams.dbUser, password=dbParams.dbPassword,host=dbParams.dbHost,database=dbParams.database)\n",
        "  mycursor = cnx.cursor()\n",
        "  mycursor.execute(sqlString)\n",
        "  myresult = mycursor.fetchall()\n",
        "  cnx.close()\n",
        "  return myresult\n",
        "\n",
        "\n",
        "def mergeDFOnKey(df1, df2, *colsToAdd):\n",
        "  return pd.merge(left=df1, right=df2[[*colsToAdd, 'REFERENCE']], left_on='REFERENCE', right_on='REFERENCE', how='left')\n",
        "\n",
        "def getClass(percent):\n",
        "  if(percent > 0 and percent <= 50):\n",
        "    theClass = 'A'\n",
        "  elif(percent > 50 and percent <= 80):\n",
        "    theClass = 'B'\n",
        "  else:\n",
        "    theClass = 'C'\n",
        "  return theClass\n",
        "\n",
        "def baseClassifier(df, depotCode):\n",
        "\n",
        "  columnsToClassify = ['VELOCITY', 'VOLUME']\n",
        "  for col in columnsToClassify:\n",
        "    cumulCol = 'cumul'+col\n",
        "    percentCol = 'percent'+col\n",
        "    classCol = 'class'+col\n",
        "    #Has problems with sort and index and warnings, etc.\n",
        "    #So crate a new, temporary, DataFame for each column that we calculate\n",
        "    #We will merge the temporary DataFrame back in with DF before the return\n",
        "    tempDF = df.sort_values([col], ascending=False)\n",
        "    tempDF = tempDF.reset_index(drop=True)\n",
        "    tempDF[cumulCol] = 0\n",
        "\n",
        "    colTotal = tempDF[col].sum()\n",
        "\n",
        "    for i in tempDF.index:\n",
        "      if(i==0):\n",
        "        val = tempDF.at[i, col]\n",
        "      else:\n",
        "        val = tempDF.at[i-1, cumulCol] + tempDF.at[i, col]\n",
        "      tempDF.at[i, cumulCol] = val\n",
        "      tempDF.at[i, percentCol] = round((val / colTotal)*100, 4)\n",
        "      tempDF.at[i, classCol] = getClass(tempDF.at[i, percentCol])\n",
        "\n",
        "    #NEED TO TEST DATA AND GET CLASSIFICATION\n",
        "    df = mergeDFOnKey(df, tempDF, cumulCol, percentCol, classCol)\n",
        "\n",
        "  return df"
      ],
      "execution_count": 2,
      "outputs": []
    },
    {
      "cell_type": "code",
      "metadata": {
        "id": "kSup7iHibCoY"
      },
      "source": [
        "#@title Mount Google Drive and/or update path\n",
        "#Mount GDrive - not required if permanently mounted via notebook\n",
        "#Credit: https://stackoverflow.com/questions/52808143/colab-automatic-authentication-of-connection-to-google-drive-persistent-per-n\n",
        "#drive.mount('/gdrive')\n",
        "\n",
        "#Update the path statement so that we can import our PY files for this project\n",
        "sys.path.insert(1, projectFolder)"
      ],
      "execution_count": 3,
      "outputs": []
    },
    {
      "cell_type": "code",
      "metadata": {
        "id": "q_bTTneB2V66"
      },
      "source": [
        "#@title Load client specific parameters\r\n",
        "with open(projectFolder+'params.yaml') as paramsFile:    \r\n",
        "    paramsDict = yaml.load(paramsFile, Loader=yaml.FullLoader)\r\n",
        "paramsFile.close()\r\n",
        "\r\n",
        "#Convert our dict to an object with properties for convenience\r\n",
        "params = DictToObject(**paramsDict)\r\n",
        "dbParams = DictToObject(**params.dbParams)"
      ],
      "execution_count": 4,
      "outputs": []
    },
    {
      "cell_type": "markdown",
      "metadata": {
        "id": "ENpPrlDmOhht"
      },
      "source": [
        "# Load Data"
      ]
    },
    {
      "cell_type": "code",
      "metadata": {
        "colab": {
          "base_uri": "https://localhost:8080/"
        },
        "id": "xlUqA3hgfqxf",
        "outputId": "5ab9e1d7-ca9e-4f81-af86-48793749e11d"
      },
      "source": [
        "#@title Read CSV into DataFrame\n",
        "csvDelim =  params.csvDelim\n",
        "freqVolCSV = 'rawData.csv'\n",
        "#Need the engine='python' parameter to avoid an error of fallback to 'c'\n",
        "#due to not support multiple separators different from \\s\n",
        "rawDataDF = pd.read_csv(projectFolder+freqVolCSV, sep=csvDelim, engine='python', dtype={'DEPOT': 'string'})\n",
        "\n",
        "print(rawDataDF.head())\n",
        "rawDataDF.info()"
      ],
      "execution_count": 5,
      "outputs": [
        {
          "output_type": "stream",
          "text": [
            "  DEPOT  REFERENCE  VELOCITY  VOLUME\n",
            "0    05       2017         1     4.0\n",
            "1    05       2063         2   100.0\n",
            "2    05       2568         1     1.0\n",
            "3    05       2922         2     4.0\n",
            "4    05       6219         1     3.0\n",
            "<class 'pandas.core.frame.DataFrame'>\n",
            "RangeIndex: 6059 entries, 0 to 6058\n",
            "Data columns (total 4 columns):\n",
            " #   Column     Non-Null Count  Dtype  \n",
            "---  ------     --------------  -----  \n",
            " 0   DEPOT      6059 non-null   string \n",
            " 1   REFERENCE  6059 non-null   int64  \n",
            " 2   VELOCITY   6059 non-null   int64  \n",
            " 3   VOLUME     6059 non-null   float64\n",
            "dtypes: float64(1), int64(2), string(1)\n",
            "memory usage: 189.5 KB\n"
          ],
          "name": "stdout"
        }
      ]
    },
    {
      "cell_type": "markdown",
      "metadata": {
        "id": "KjsAjhnFOrBD"
      },
      "source": [
        "# Calculate ABC\r\n",
        "* For each store\r\n",
        "* For all stores\r\n",
        "\r\n",
        "## Comments\r\n",
        "\r\n",
        "\r\n",
        "1.   It is assumed thet the CSV file contains 1 row per pair (DEPOT, REFERENCE)\r\n",
        "\r\n",
        "## Generic Steps\r\n",
        "> For the VELOCITY column and then for the VOLUME column \r\n",
        "1.   Filter the data by depot if a depot code was provided. Otherwise do not filter by depot if no depot code is provided\r\n",
        "***For the column in question***\r\n",
        "2.   Sort the values in ascending order\r\n",
        "3.   Get the cummulative total\r\n",
        "4.   Calculate the running total line-by-line\r\n",
        "5.   Calculate the percentage of the running total as divided by the cummulative total*\r\n",
        "6.   Apply a classification letter (A, B, or C) based on the percentage*\r\n",
        "\r\n",
        "\\* = *value to be stored in DB*\r\n",
        "\r\n",
        "## Per depot\r\n",
        "1.   Loop through a list of unique depot code\r\n",
        "2.   Perform the \"Generic Steps\" for each store by passing the depot codes\r\n",
        "\r\n",
        "\r\n"
      ]
    },
    {
      "cell_type": "code",
      "metadata": {
        "id": "kSYUfIYuAXqh",
        "colab": {
          "base_uri": "https://localhost:8080/"
        },
        "outputId": "197e6019-a8d1-49f8-9532-f8201c05b688"
      },
      "source": [
        "#@title Calculate and classify\r\n",
        "depotList = list(rawDataDF['DEPOT'].unique())\r\n",
        "depotList.sort(reverse=False)\r\n",
        "\r\n",
        "allDepotsDF = pd.DataFrame()\r\n",
        "\r\n",
        "#For each of the individual depots\r\n",
        "for depotCode in depotList:\r\n",
        "  # Create a new DF, filtered by DEPOT\r\n",
        "  depotDF = baseClassifier(rawDataDF[rawDataDF.DEPOT == depotCode], depotCode)\r\n",
        "  #Append to allDepotDF before next loop interation\r\n",
        "  allDepotsDF = allDepotsDF.append(depotDF[list(depotDF.columns)])\r\n",
        "\r\n",
        "#Get cummulative for each reference at each depot\r\n",
        "uniqueRefs = pd.unique(allDepotsDF['REFERENCE'].values)\r\n",
        "allDepotCode = '00'\r\n",
        "totsDF = allDepotsDF.groupby(['REFERENCE'], as_index=False)[[\"VELOCITY\", \"VOLUME\"]].sum()\r\n",
        "totsDF['DEPOT'] = list((allDepotCode for i in range(len(uniqueRefs))))\r\n",
        "#Rearrange columns for sanity\r\n",
        "totsDF = totsDF[['DEPOT', 'REFERENCE', 'VELOCITY', 'VOLUME']]\r\n",
        "\r\n",
        "depotDF = baseClassifier(totsDF[totsDF.DEPOT == allDepotCode], allDepotCode)\r\n",
        "allDepotsDF = allDepotsDF.append(depotDF[list(depotDF.columns)])\r\n",
        "\r\n",
        "print(allDepotsDF.head())\r\n",
        "print(allDepotsDF[allDepotsDF.REFERENCE == 120])\r\n",
        "\r\n",
        "#Drop columns that we do not need to store in db\r\n",
        "allDepotsDF = allDepotsDF.drop(['cumulVELOCITY', 'cumulVOLUME'], axis=1)"
      ],
      "execution_count": 6,
      "outputs": [
        {
          "output_type": "stream",
          "text": [
            "  DEPOT  REFERENCE  VELOCITY  ...  cumulVOLUME  percentVOLUME  classVOLUME\n",
            "0    05       2017         1  ...        46398        95.0194            C\n",
            "1    05       2063         2  ...        29112        59.6190            B\n",
            "2    05       2568         1  ...        48344        99.0046            C\n",
            "3    05       2922         2  ...        46170        94.5524            C\n",
            "4    05       6219         1  ...        46685        95.6071            C\n",
            "\n",
            "[5 rows x 10 columns]\n",
            "  DEPOT  REFERENCE  VELOCITY  ...  cumulVOLUME  percentVOLUME  classVOLUME\n",
            "0    08        120         2  ...        19549        95.1018            C\n",
            "0    00        120         2  ...        76195        98.0015            C\n",
            "\n",
            "[2 rows x 10 columns]\n"
          ],
          "name": "stdout"
        }
      ]
    },
    {
      "cell_type": "code",
      "metadata": {
        "id": "WgSuUKm44XP4"
      },
      "source": [
        "#@title Insert results into DB\r\n",
        "engine = create_engine(\"mysql+pymysql://{user}:{pw}@{host}/{db}\".format(host=dbParams.dbHost, db=dbParams.database, user=dbParams.dbUser, pw=dbParams.dbPassword))\r\n",
        "dbTable = 'abcClassifiedData'\r\n",
        "allDepotsDF.to_sql(dbTable, engine, chunksize=1000, if_exists='replace')"
      ],
      "execution_count": 7,
      "outputs": []
    },
    {
      "cell_type": "code",
      "metadata": {
        "id": "8h_hiU1zlv8S",
        "colab": {
          "base_uri": "https://localhost:8080/"
        },
        "outputId": "9b42f11d-e46d-4b08-c428-ed51db571394"
      },
      "source": [
        "#Check out the results of the insert\r\n",
        "linesFromTable = mySQLSimpleSelect(\"SELECT * FROM \"+dbTable+\" limit 10\")\r\n",
        "for x in linesFromTable:\r\n",
        "  print(x)"
      ],
      "execution_count": 8,
      "outputs": [
        {
          "output_type": "stream",
          "text": [
            "(0, '05', 2017, 1, 4.0, 89.45, 'C', 95.0194, 'C')\n",
            "(1, '05', 2063, 2, 100.0, 77.6704, 'B', 59.619, 'B')\n",
            "(2, '05', 2568, 1, 1.0, 93.0618, 'C', 99.0046, 'C')\n",
            "(3, '05', 2922, 2, 4.0, 84.0817, 'C', 94.5524, 'C')\n",
            "(4, '05', 6219, 1, 3.0, 93.0508, 'C', 95.6071, 'C')\n",
            "(5, '05', 6793, 3, 6.0, 68.0206, 'B', 92.3734, 'C')\n",
            "(6, '05', 8603, 1, 7.0, 93.0399, 'C', 91.4335, 'C')\n",
            "(7, '05', 10026, 1, 1.0, 93.0289, 'C', 99.0026, 'C')\n",
            "(8, '05', 10029, 1, 4.0, 93.0179, 'C', 94.5688, 'C')\n",
            "(9, '05', 10187, 1, 2.0, 93.0069, 'C', 98.1588, 'C')\n"
          ],
          "name": "stdout"
        }
      ]
    },
    {
      "cell_type": "markdown",
      "metadata": {
        "id": "RnH1iRgWUgm0"
      },
      "source": [
        "# Plot\r\n",
        "We could read from the database but since the data is already in a dataframe we will reuse that instead."
      ]
    },
    {
      "cell_type": "code",
      "metadata": {
        "colab": {
          "base_uri": "https://localhost:8080/",
          "height": 545
        },
        "cellView": "form",
        "id": "XjRCF46EVL5n",
        "outputId": "23f0a941-da53-42cf-e739-08b2feb340f2"
      },
      "source": [
        "#@title Classed by Velocity\r\n",
        "grouped_multiple = allDepotsDF.groupby(['DEPOT', 'classVELOCITY']).agg({'classVELOCITY': ['count']})\r\n",
        "grouped_multiple.columns = ['nbrClassVelocity']\r\n",
        "grouped_multiple = grouped_multiple.reset_index()\r\n",
        "\r\n",
        "\r\n",
        "#Transerform our aggregated DF into a grid of (row=conservation_status, column=category)\r\n",
        "#for use by pd.plot()\r\n",
        "gridDF = gridDFBuilder(grouped_multiple, 'DEPOT',  'classVELOCITY', 'nbrClassVelocity')\r\n",
        "\r\n",
        "fig, ax = plt.subplots()\r\n",
        "plt.clf()\r\n",
        "ax = gridDF.plot(kind='barh', figsize=(10,8), stacked=True)\r\n",
        "plt.xticks(rotation=45)\r\n",
        "plt.xlabel(\"Nbr of products per class (VELOCITY)\")\r\n",
        "plt.ylabel(\"Stores by depot code\")\r\n",
        "plt.title(\"Number of Products per classed by VELOCITY per Store\")\r\n",
        "\r\n",
        "plt.gcf().subplots_adjust(left=0.15)\r\n",
        "\r\n",
        "fig = plt.gcf()\r\n",
        "plt.draw()\r\n",
        "plt.show()"
      ],
      "execution_count": 9,
      "outputs": [
        {
          "output_type": "display_data",
          "data": {
            "text/plain": [
              "<Figure size 432x288 with 0 Axes>"
            ]
          },
          "metadata": {
            "tags": []
          }
        },
        {
          "output_type": "display_data",
          "data": {
            "image/png": "[encoded data removed]",
            "text/plain": [
              "<Figure size 720x576 with 1 Axes>"
            ]
          },
          "metadata": {
            "tags": [],
            "needs_background": "light"
          }
        }
      ]
    },
    {
      "cell_type": "code",
      "metadata": {
        "colab": {
          "base_uri": "https://localhost:8080/",
          "height": 545
        },
        "cellView": "form",
        "id": "tBwHOfbPZz-r",
        "outputId": "0dd3fd86-415a-43c3-ff3e-1e44a58c4c89"
      },
      "source": [
        "#@title Classed by Volume\r\n",
        "grouped_multiple = allDepotsDF.groupby(['DEPOT', 'classVOLUME']).agg({'classVOLUME': ['count']})\r\n",
        "grouped_multiple.columns = ['nbrClassVOLUME']\r\n",
        "grouped_multiple = grouped_multiple.reset_index()\r\n",
        "\r\n",
        "\r\n",
        "#Transerform our aggregated DF into a grid of (row=conservation_status, column=category)\r\n",
        "#for use by pd.plot()\r\n",
        "gridDF = gridDFBuilder(grouped_multiple, 'DEPOT',  'classVOLUME', 'nbrClassVOLUME')\r\n",
        "\r\n",
        "fig, ax = plt.subplots()\r\n",
        "plt.clf()\r\n",
        "ax = gridDF.plot(kind='barh', figsize=(10,8), stacked=True)\r\n",
        "plt.xticks(rotation=45)\r\n",
        "plt.xlabel(\"Nbr of products per class (VOLUME)\")\r\n",
        "plt.ylabel(\"Stores by depot code\")\r\n",
        "plt.title(\"Number of Products per classed by VOLUME per Store\")\r\n",
        "\r\n",
        "plt.gcf().subplots_adjust(left=0.15)\r\n",
        "\r\n",
        "fig = plt.gcf()\r\n",
        "plt.draw()\r\n",
        "plt.show()"
      ],
      "execution_count": 10,
      "outputs": [
        {
          "output_type": "display_data",
          "data": {
            "text/plain": [
              "<Figure size 432x288 with 0 Axes>"
            ]
          },
          "metadata": {
            "tags": []
          }
        },
        {
          "output_type": "display_data",
          "data": {
            "image/png": "[encoded data removed]",
            "text/plain": [
              "<Figure size 720x576 with 1 Axes>"
            ]
          },
          "metadata": {
            "tags": [],
            "needs_background": "light"
          }
        }
      ]
    }
  ]
}